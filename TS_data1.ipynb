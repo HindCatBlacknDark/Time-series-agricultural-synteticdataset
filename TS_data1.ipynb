{
  "nbformat": 4,
  "nbformat_minor": 0,
  "metadata": {
    "colab": {
      "provenance": [],
      "authorship_tag": "ABX9TyN/QDulPewvCt3An8T8Py3r",
      "include_colab_link": true
    },
    "kernelspec": {
      "name": "python3",
      "display_name": "Python 3"
    },
    "language_info": {
      "name": "python"
    }
  },
  "cells": [
    {
      "cell_type": "markdown",
      "metadata": {
        "id": "view-in-github",
        "colab_type": "text"
      },
      "source": [
        "<a href=\"https://colab.research.google.com/github/HindCatBlacknDark/Time-series-agricultural-synteticdataset/blob/main/TS_data1.ipynb\" target=\"_parent\"><img src=\"https://colab.research.google.com/assets/colab-badge.svg\" alt=\"Open In Colab\"/></a>"
      ]
    },
    {
      "cell_type": "markdown",
      "source": [
        "# Let's generate a synthetic Time series dataset"
      ],
      "metadata": {
        "id": "IohP03L7yk6x"
      }
    },
    {
      "cell_type": "markdown",
      "source": [
        "I will try to generate a synthetic time series data."
      ],
      "metadata": {
        "id": "j33s00B-ji7t"
      }
    },
    {
      "cell_type": "code",
      "execution_count": null,
      "metadata": {
        "id": "cUiDNiadhnaU"
      },
      "outputs": [],
      "source": [
        "import pandas as pd\n",
        "import numpy as np"
      ]
    },
    {
      "cell_type": "code",
      "source": [
        "# Generate synthetic time series data\n",
        "np.random.seed(0)\n",
        "\n",
        "# Define the number of weeks and treatment combinations\n",
        "num_weeks = 20\n",
        "num_treatments = 4\n",
        "num_replicates = 5\n",
        "\n",
        "# Generate time index\n",
        "time_index = pd.date_range(start='2023-01-01', periods=num_weeks, freq='W')\n",
        "\n",
        "# Generate treatment combinations\n",
        "treatments = ['A', 'B', 'C', 'D']"
      ],
      "metadata": {
        "id": "VOBaBzmal65B"
      },
      "execution_count": null,
      "outputs": []
    },
    {
      "cell_type": "code",
      "source": [
        "# Generate input features (temperature, rain, soil pH)\n",
        "temperature = np.random.normal(loc=25, scale=5, size=(num_weeks, num_treatments))\n",
        "rain = np.random.normal(loc=50, scale=20, size=(num_weeks, num_treatments))\n",
        "soil_ph = np.random.normal(loc=6.5, scale=0.5, size=(num_weeks, num_treatments))"
      ],
      "metadata": {
        "id": "4FmU8BqLlzyZ"
      },
      "execution_count": null,
      "outputs": []
    },
    {
      "cell_type": "code",
      "source": [
        "yield_data = np.random.normal(loc=50, scale=10, size=(num_weeks, num_treatments))\n",
        "biomass = np.random.normal(loc=100, scale=20, size=(num_weeks, num_treatments))\n",
        "canopy = np.random.normal(loc=80, scale=15, size=(num_weeks, num_treatments))"
      ],
      "metadata": {
        "id": "iT_6dUEGlvfo"
      },
      "execution_count": null,
      "outputs": []
    },
    {
      "cell_type": "code",
      "source": [
        "data = {\n",
        "    'Time': np.repeat(time_index, num_treatments * num_replicates),\n",
        "    'Treatment': np.tile(np.repeat(treatments, num_replicates), num_weeks),\n",
        "    'Temperature': temperature.flatten(),\n",
        "    'Rain': rain.flatten(),\n",
        "    'Soil_pH': soil_ph.flatten(),\n",
        "    'Yield': yield_data.flatten(),\n",
        "    'Biomass': biomass.flatten(),\n",
        "    'Canopy': canopy.flatten()\n",
        "}"
      ],
      "metadata": {
        "id": "RFkmh7nnlpn5"
      },
      "execution_count": null,
      "outputs": []
    },
    {
      "cell_type": "code",
      "source": [
        "print(data)"
      ],
      "metadata": {
        "colab": {
          "base_uri": "https://localhost:8080/"
        },
        "id": "gZsCZ3fPnQ0m",
        "outputId": "5407a198-04d0-47b2-9ac9-f871749736c2"
      },
      "execution_count": null,
      "outputs": [
        {
          "output_type": "stream",
          "name": "stdout",
          "text": [
            "{'Time': DatetimeIndex(['2023-01-01', '2023-01-01', '2023-01-01', '2023-01-01',\n",
            "               '2023-01-01', '2023-01-01', '2023-01-01', '2023-01-01',\n",
            "               '2023-01-01', '2023-01-01',\n",
            "               ...\n",
            "               '2023-05-14', '2023-05-14', '2023-05-14', '2023-05-14',\n",
            "               '2023-05-14', '2023-05-14', '2023-05-14', '2023-05-14',\n",
            "               '2023-05-14', '2023-05-14'],\n",
            "              dtype='datetime64[ns]', length=400, freq=None), 'Treatment': array(['A', 'A', 'A', 'A', 'A', 'B', 'B', 'B', 'B', 'B', 'C', 'C', 'C',\n",
            "       'C', 'C', 'D', 'D', 'D', 'D', 'D', 'A', 'A', 'A', 'A', 'A', 'B',\n",
            "       'B', 'B', 'B', 'B', 'C', 'C', 'C', 'C', 'C', 'D', 'D', 'D', 'D',\n",
            "       'D', 'A', 'A', 'A', 'A', 'A', 'B', 'B', 'B', 'B', 'B', 'C', 'C',\n",
            "       'C', 'C', 'C', 'D', 'D', 'D', 'D', 'D', 'A', 'A', 'A', 'A', 'A',\n",
            "       'B', 'B', 'B', 'B', 'B', 'C', 'C', 'C', 'C', 'C', 'D', 'D', 'D',\n",
            "       'D', 'D', 'A', 'A', 'A', 'A', 'A', 'B', 'B', 'B', 'B', 'B', 'C',\n",
            "       'C', 'C', 'C', 'C', 'D', 'D', 'D', 'D', 'D', 'A', 'A', 'A', 'A',\n",
            "       'A', 'B', 'B', 'B', 'B', 'B', 'C', 'C', 'C', 'C', 'C', 'D', 'D',\n",
            "       'D', 'D', 'D', 'A', 'A', 'A', 'A', 'A', 'B', 'B', 'B', 'B', 'B',\n",
            "       'C', 'C', 'C', 'C', 'C', 'D', 'D', 'D', 'D', 'D', 'A', 'A', 'A',\n",
            "       'A', 'A', 'B', 'B', 'B', 'B', 'B', 'C', 'C', 'C', 'C', 'C', 'D',\n",
            "       'D', 'D', 'D', 'D', 'A', 'A', 'A', 'A', 'A', 'B', 'B', 'B', 'B',\n",
            "       'B', 'C', 'C', 'C', 'C', 'C', 'D', 'D', 'D', 'D', 'D', 'A', 'A',\n",
            "       'A', 'A', 'A', 'B', 'B', 'B', 'B', 'B', 'C', 'C', 'C', 'C', 'C',\n",
            "       'D', 'D', 'D', 'D', 'D', 'A', 'A', 'A', 'A', 'A', 'B', 'B', 'B',\n",
            "       'B', 'B', 'C', 'C', 'C', 'C', 'C', 'D', 'D', 'D', 'D', 'D', 'A',\n",
            "       'A', 'A', 'A', 'A', 'B', 'B', 'B', 'B', 'B', 'C', 'C', 'C', 'C',\n",
            "       'C', 'D', 'D', 'D', 'D', 'D', 'A', 'A', 'A', 'A', 'A', 'B', 'B',\n",
            "       'B', 'B', 'B', 'C', 'C', 'C', 'C', 'C', 'D', 'D', 'D', 'D', 'D',\n",
            "       'A', 'A', 'A', 'A', 'A', 'B', 'B', 'B', 'B', 'B', 'C', 'C', 'C',\n",
            "       'C', 'C', 'D', 'D', 'D', 'D', 'D', 'A', 'A', 'A', 'A', 'A', 'B',\n",
            "       'B', 'B', 'B', 'B', 'C', 'C', 'C', 'C', 'C', 'D', 'D', 'D', 'D',\n",
            "       'D', 'A', 'A', 'A', 'A', 'A', 'B', 'B', 'B', 'B', 'B', 'C', 'C',\n",
            "       'C', 'C', 'C', 'D', 'D', 'D', 'D', 'D', 'A', 'A', 'A', 'A', 'A',\n",
            "       'B', 'B', 'B', 'B', 'B', 'C', 'C', 'C', 'C', 'C', 'D', 'D', 'D',\n",
            "       'D', 'D', 'A', 'A', 'A', 'A', 'A', 'B', 'B', 'B', 'B', 'B', 'C',\n",
            "       'C', 'C', 'C', 'C', 'D', 'D', 'D', 'D', 'D', 'A', 'A', 'A', 'A',\n",
            "       'A', 'B', 'B', 'B', 'B', 'B', 'C', 'C', 'C', 'C', 'C', 'D', 'D',\n",
            "       'D', 'D', 'D', 'A', 'A', 'A', 'A', 'A', 'B', 'B', 'B', 'B', 'B',\n",
            "       'C', 'C', 'C', 'C', 'C', 'D', 'D', 'D', 'D', 'D'], dtype='<U1'), 'Temperature': array([33.82026173, 27.00078604, 29.89368992, 36.204466  , 34.33778995,\n",
            "       20.1136106 , 29.75044209, 24.24321396, 24.48390574, 27.05299251,\n",
            "       25.72021786, 32.27136753, 28.80518863, 25.60837508, 27.21931616,\n",
            "       26.66837164, 32.47039537, 23.97420868, 26.56533851, 20.7295213 ,\n",
            "       12.23505092, 28.26809298, 29.32218099, 21.2891749 , 36.34877312,\n",
            "       17.72817163, 25.22879259, 24.06408075, 32.66389607, 32.34679385,\n",
            "       25.77473713, 26.8908126 , 20.56107126, 15.09601766, 23.26043925,\n",
            "       25.78174485, 31.1514534 , 31.01189924, 23.06336591, 23.48848625,\n",
            "       19.75723517, 17.89991031, 16.46864905, 34.75387698, 22.45173909,\n",
            "       22.80962849, 18.7360232 , 28.88745178, 16.93051076, 23.9362986 ,\n",
            "       20.52266719, 26.93451249, 22.44597431, 19.09683908, 24.85908886,\n",
            "       27.14165935, 25.33258611, 26.51235949, 21.82838953, 23.18629417,\n",
            "       21.63769776, 23.20223419, 20.93426859, 16.36858699, 25.88713071,\n",
            "       22.99109532, 16.84900827, 27.31391128, 20.46350818, 25.25972698,\n",
            "       28.64545281, 25.64491455, 30.69700342, 18.8258709 , 27.01170821,\n",
            "       21.57594955, 20.64601425, 22.10575168, 23.44223734, 25.28082671]), 'Rain': array([26.69700318, 68.01652974, 59.31324879, 19.27512627, 79.76504388,\n",
            "       87.91778352, 73.57559142, 46.40150328, 28.58494757, 71.08903454,\n",
            "       41.93646106, 74.44890141, 54.16549956, 69.53278073, 57.12732794,\n",
            "       64.13146336, 50.21000041, 85.71740988, 52.53824185, 58.03978727,\n",
            "       87.66301394, 23.04481878, 24.59030003, 69.38793416, 26.5375319 ,\n",
            "       88.87242371, 41.72762038, 35.05090377, 88.45884053, 79.61029583,\n",
            "       87.35117921, 68.12089317, 32.7754863 , 88.20129906, 44.63993258,\n",
            "       66.04912792, 68.94503936, 46.89979814, 62.28158741, 68.44413343,\n",
            "       57.52851062, 28.01198419, 55.96476348, 76.52771793, 36.10864281,\n",
            "       47.00730919, 41.29692897, 86.98527457, 63.44589514, 58.14923672,\n",
            "       34.60167851, 60.78498383, 36.51334679, 50.63661117, 37.28307843,\n",
            "       63.5286659 , 61.53181633, 45.83402489, 57.92013425, 28.13876983,\n",
            "       20.17484815, 58.78783403, 53.33346991, 62.70062874, 97.6628955 ,\n",
            "       68.88958974, 31.74355549, 72.34032576, 23.68185179, 40.7683079 ,\n",
            "       48.63516789, 84.26685443, 35.10490356, 33.47122923, 48.03094951,\n",
            "       36.73043427, 72.53271844, 28.40136983, 27.05062695, 41.24359911]), 'Soil_pH': array([6.25098377, 7.46476603, 6.9747104 , 6.54377562, 5.88728224,\n",
            "       6.92218149, 5.99989233, 5.72761445, 7.0940149 , 6.65847131,\n",
            "       6.96042941, 6.65936383, 6.92841531, 6.1744872 , 5.98287858,\n",
            "       6.84079726, 6.09829517, 6.15522511, 6.27223375, 6.50873958,\n",
            "       6.32300304, 5.81252435, 6.1781908 , 5.38829842, 6.81261573,\n",
            "       5.69897117, 5.94780833, 6.52608254, 6.1302185 , 7.2715073 ,\n",
            "       5.85357155, 6.63352543, 6.48035859, 5.91595325, 6.76163833,\n",
            "       6.41422683, 6.88589528, 6.91175208, 7.58161797, 7.16826397,\n",
            "       6.31540908, 6.38031041, 7.0498298 , 6.82763187, 6.82006576,\n",
            "       5.69152198, 6.48783694, 6.13098455, 6.6399623 , 6.45092481,\n",
            "       6.95508945, 6.65860911, 6.89316398, 6.26679045, 6.02777687,\n",
            "       6.29497515, 6.49148979, 6.68957587, 7.62965448, 6.47887142,\n",
            "       6.0220275 , 6.32700911, 6.26820201, 6.74074074, 5.72960149,\n",
            "       6.531631  , 6.57825327, 6.61609052, 6.20134197, 6.38103914,\n",
            "       5.78796955, 6.25334006, 6.22856926, 6.70802502, 5.92190878,\n",
            "       6.89059905, 7.24724227, 5.46500749, 6.71312937, 6.83845402]), 'Yield': array([43.62562974, 46.02728186, 48.67119422, 47.02209121, 46.90987031,\n",
            "       33.23996194, 61.52331565, 60.79618592, 41.86635741, 35.33575672,\n",
            "       55.21064876, 44.2421203 , 51.41953163, 46.80671583, 56.91538751,\n",
            "       56.94749144, 42.74402622, 36.16636045, 34.17061603, 56.10379379,\n",
            "       38.11140742, 44.93183646, 44.03685962, 49.47432704, 30.63720194,\n",
            "       51.88778597, 55.23891024, 50.88422087, 46.89113828, 50.97400166,\n",
            "       53.99046346, 22.27407244, 69.55912308, 53.90093323, 43.47591418,\n",
            "       46.09046625, 54.93741777, 48.83896061, 29.69315532, 70.64492861,\n",
            "       48.89459343, 60.20172712, 43.07950152, 65.36377054, 52.86343689,\n",
            "       56.08843834, 39.54746634, 62.1114529 , 56.89818165, 63.0184623 ,\n",
            "       43.7191244 , 45.18972882, 73.03916698, 39.39984177, 48.64050299,\n",
            "       61.36891363, 50.97724968, 55.8295368 , 46.00550971, 53.70055888,\n",
            "       36.93473148, 66.5813068 , 48.81835955, 43.19821796, 56.66383082,\n",
            "       45.39280213, 36.65741529, 36.53282494, 56.93773153, 48.40426562,\n",
            "       48.6629844 , 60.77743806, 38.73174191, 42.69322247, 46.15120191,\n",
            "       50.94351589, 49.57828549, 47.13112808, 49.38373598, 48.92694724]), 'Biomass': array([ 85.60791223,  83.74014023, 105.49032715,  82.18169834,\n",
            "        76.85289482,  93.75415498,  96.84665968, 145.13446995,\n",
            "        85.90599448, 118.8652145 , 114.94376668,  76.2211009 ,\n",
            "       115.46505955,  76.3223872 ,  46.81655524, 112.12639049,\n",
            "        64.88218833, 109.01868924,  86.31978205, 133.19101592,\n",
            "       121.37018799,  90.93228392,  86.24324778,  75.71845194,\n",
            "        91.18154735,  94.3928901 ,  92.70612911, 103.13407711,\n",
            "       111.57042995, 106.99308914,  84.71712152,  71.24417052,\n",
            "       127.29063696,  86.21101631,  86.954128  ,  89.57621375,\n",
            "        63.138609  ,  90.44051992,  90.40688372, 112.40716597,\n",
            "       113.96914298, 100.07541778, 118.63696748, 106.79929968,\n",
            "        99.68635777, 103.21856337,  96.18693013,  92.10300972,\n",
            "        94.64532926,  77.43977337, 105.60883411,  80.13752778,\n",
            "       116.83262528,  95.0108284 , 100.98989963, 109.87673553,\n",
            "       112.8662893 ,  68.58753183,  95.86192648, 117.60357824,\n",
            "        66.03788361, 107.74560951,  54.88871541,  79.54986313,\n",
            "       100.77261104,  66.86569795,  80.28978525,  70.56329985,\n",
            "       132.96269864, 103.28455511, 111.34580556,  95.54649799,\n",
            "        92.93136502,  67.67051623,  94.16325275,  84.77015576,\n",
            "       117.15847849, 122.82203733, 129.33157431, 117.05103879]), 'Canopy': array([ 71.02019095,  63.26154521,  91.49994772,  85.34439226,\n",
            "        53.47192324,  85.33222689,  92.21779734,  80.88388384,\n",
            "        77.22419493,  67.88527269,  58.30197951,  92.00446924,\n",
            "        75.36328333,  76.49800008, 105.9908178 ,  90.2675166 ,\n",
            "        85.56237502,  82.13092708, 102.79992291, 105.79383961,\n",
            "        93.94257667,  88.73336887,  48.58095393,  81.85582871,\n",
            "        78.04839569,  81.40929844,  94.14569131,  38.90484249,\n",
            "        71.4603192 ,  84.04856532,  72.99731681,  58.7464083 ,\n",
            "        93.0344523 ,  84.15307859,  65.43343144,  84.72225807,\n",
            "        92.32378568,  80.07938969,  92.00847205,  81.17390263,\n",
            "        74.07156526,  62.60869225,  78.7110385 ,  82.91439407,\n",
            "        93.13749142,  78.27338797,  86.86123409,  65.53081979,\n",
            "        68.26056266,  78.34416051,  64.18057304,  92.30371756,\n",
            "        86.94695494,  84.18643647,  85.08356188, 110.31565342,\n",
            "        72.96703718,  46.97838072,  82.98950295,  79.24094689,\n",
            "        72.23721436,  65.31755211,  73.41215717,  82.72007644,\n",
            "        72.45774949, 116.18680519,  65.59243428,  68.10323956,\n",
            "        45.6706994 ,  83.77226623,  49.75390058,  71.9081805 ,\n",
            "        75.86494198,  69.35408051, 106.08309016,  94.91591587,\n",
            "        99.78705314,  66.76371772,  96.92891097,  87.4400142 ])}\n"
          ]
        }
      ]
    },
    {
      "cell_type": "markdown",
      "source": [
        "there was an error, some arrays had different lengths, so we'll find the shortest arrays and truncate the other arrays to shortest length"
      ],
      "metadata": {
        "id": "66MelWcwnzd2"
      }
    },
    {
      "cell_type": "code",
      "source": [
        "min_length = min([len(arr) for arr in data.values()])\n",
        "for key, arr in data.items():\n",
        "    if len(arr) > min_length:\n",
        "        data[key] = arr[:min_length]"
      ],
      "metadata": {
        "id": "f1DGqfJOnXIo"
      },
      "execution_count": null,
      "outputs": []
    },
    {
      "cell_type": "markdown",
      "source": [
        "problem solved"
      ],
      "metadata": {
        "id": "RC4AC1ejoaQu"
      }
    },
    {
      "cell_type": "code",
      "source": [
        "# Create DataFrame\n",
        "df = pd.DataFrame(data)"
      ],
      "metadata": {
        "id": "CpRpZ3mFlfye"
      },
      "execution_count": null,
      "outputs": []
    },
    {
      "cell_type": "code",
      "source": [
        "# Display the DataFrame\n",
        "print(df.head())"
      ],
      "metadata": {
        "colab": {
          "base_uri": "https://localhost:8080/"
        },
        "id": "aqUhALnekA6M",
        "outputId": "db902d6a-c575-4cb3-8def-548611aabe5f"
      },
      "execution_count": null,
      "outputs": [
        {
          "output_type": "stream",
          "name": "stdout",
          "text": [
            "        Time Treatment  Temperature       Rain   Soil_pH      Yield  \\\n",
            "0 2023-01-01         A    33.820262  26.697003  6.250984  43.625630   \n",
            "1 2023-01-01         A    27.000786  68.016530  7.464766  46.027282   \n",
            "2 2023-01-01         A    29.893690  59.313249  6.974710  48.671194   \n",
            "3 2023-01-01         A    36.204466  19.275126  6.543776  47.022091   \n",
            "4 2023-01-01         A    34.337790  79.765044  5.887282  46.909870   \n",
            "\n",
            "      Biomass     Canopy  \n",
            "0   85.607912  71.020191  \n",
            "1   83.740140  63.261545  \n",
            "2  105.490327  91.499948  \n",
            "3   82.181698  85.344392  \n",
            "4   76.852895  53.471923  \n"
          ]
        }
      ]
    },
    {
      "cell_type": "markdown",
      "source": [
        "## Let's visualize this data using PCA"
      ],
      "metadata": {
        "id": "8loI1gfDonYt"
      }
    },
    {
      "cell_type": "code",
      "source": [
        "import matplotlib.pyplot as plt\n",
        "from sklearn.decomposition import PCA\n",
        "from sklearn.preprocessing import StandardScaler"
      ],
      "metadata": {
        "id": "3WJKPRPTo9S5"
      },
      "execution_count": null,
      "outputs": []
    },
    {
      "cell_type": "code",
      "source": [
        "# Separate features (input variables) and target variables (output variables)\n",
        "features = df[['Temperature', 'Rain', 'Soil_pH']]\n",
        "targets = df[['Yield', 'Biomass', 'Canopy']]\n",
        "\n",
        "# Standardize the features\n",
        "scaler = StandardScaler()\n",
        "scaled_features = scaler.fit_transform(features)"
      ],
      "metadata": {
        "id": "NRdTuW0ipKoJ"
      },
      "execution_count": null,
      "outputs": []
    },
    {
      "cell_type": "code",
      "source": [
        "# Apply PCA to reduce dimensionality\n",
        "pca = PCA(n_components=2)\n",
        "principal_components = pca.fit_transform(scaled_features)\n",
        "\n",
        "# Create a DataFrame for principal components\n",
        "pc_df = pd.DataFrame(data=principal_components, columns=['PC1', 'PC2'])\n",
        "\n",
        "# Concatenate principal components DataFrame with target variables\n",
        "final_df = pd.concat([pc_df, targets], axis=1)"
      ],
      "metadata": {
        "id": "ApPGV8v4p4cy"
      },
      "execution_count": null,
      "outputs": []
    },
    {
      "cell_type": "code",
      "source": [
        "plt.figure(figsize=(10, 6))\n",
        "for target in ['Yield', 'Biomass', 'Canopy']:\n",
        "    plt.scatter(final_df['PC1'], final_df['PC2'], c=final_df[target], cmap='viridis', label=target)\n",
        "plt.xlabel('Principal Component 1')\n",
        "plt.ylabel('Principal Component 2')\n",
        "plt.title('PCA Visualization of Synthetic Time Series Data')\n",
        "plt.colorbar(label='Target Variable Value')\n",
        "plt.legend()\n",
        "plt.show()"
      ],
      "metadata": {
        "colab": {
          "base_uri": "https://localhost:8080/",
          "height": 564
        },
        "id": "rluL9jd-p96-",
        "outputId": "2bc29732-aeb4-41a2-d78d-a0596bf660ce"
      },
      "execution_count": null,
      "outputs": [
        {
          "output_type": "display_data",
          "data": {
            "text/plain": [
              "<Figure size 1000x600 with 2 Axes>"
            ],
            "image/png": "[encoded data removed]"
          },
          "metadata": {}
        }
      ]
    },
    {
      "cell_type": "markdown",
      "source": [
        "# Let's use a regression model that captures trend of time"
      ],
      "metadata": {
        "id": "WZCHZ3wsqYeu"
      }
    },
    {
      "cell_type": "code",
      "source": [
        "import statsmodels.api as sm"
      ],
      "metadata": {
        "id": "WImeMdHBqfeB"
      },
      "execution_count": null,
      "outputs": []
    },
    {
      "cell_type": "code",
      "source": [
        "# Define input features (including time)\n",
        "X = df[['Temperature', 'Rain', 'Soil_pH', 'Time']]\n",
        "\n",
        "# Add intercept term\n",
        "X = sm.add_constant(X)\n",
        "\n",
        "# Define output variables\n",
        "y = df[['Yield', 'Biomass', 'Canopy']].values  # Convert to NumPy array"
      ],
      "metadata": {
        "id": "OB2WF7gNrBxE"
      },
      "execution_count": null,
      "outputs": []
    },
    {
      "cell_type": "code",
      "source": [
        "np.asarray(data)"
      ],
      "metadata": {
        "colab": {
          "base_uri": "https://localhost:8080/"
        },
        "id": "0TMFERUqs0Dp",
        "outputId": "6e38c215-9e4c-4d8e-adaf-2d0ffb49d7ab"
      },
      "execution_count": null,
      "outputs": [
        {
          "output_type": "execute_result",
          "data": {
            "text/plain": [
              "array({'Time': DatetimeIndex(['2023-01-01', '2023-01-01', '2023-01-01', '2023-01-01',\n",
              "               '2023-01-01', '2023-01-01', '2023-01-01', '2023-01-01',\n",
              "               '2023-01-01', '2023-01-01', '2023-01-01', '2023-01-01',\n",
              "               '2023-01-01', '2023-01-01', '2023-01-01', '2023-01-01',\n",
              "               '2023-01-01', '2023-01-01', '2023-01-01', '2023-01-01',\n",
              "               '2023-01-08', '2023-01-08', '2023-01-08', '2023-01-08',\n",
              "               '2023-01-08', '2023-01-08', '2023-01-08', '2023-01-08',\n",
              "               '2023-01-08', '2023-01-08', '2023-01-08', '2023-01-08',\n",
              "               '2023-01-08', '2023-01-08', '2023-01-08', '2023-01-08',\n",
              "               '2023-01-08', '2023-01-08', '2023-01-08', '2023-01-08',\n",
              "               '2023-01-15', '2023-01-15', '2023-01-15', '2023-01-15',\n",
              "               '2023-01-15', '2023-01-15', '2023-01-15', '2023-01-15',\n",
              "               '2023-01-15', '2023-01-15', '2023-01-15', '2023-01-15',\n",
              "               '2023-01-15', '2023-01-15', '2023-01-15', '2023-01-15',\n",
              "               '2023-01-15', '2023-01-15', '2023-01-15', '2023-01-15',\n",
              "               '2023-01-22', '2023-01-22', '2023-01-22', '2023-01-22',\n",
              "               '2023-01-22', '2023-01-22', '2023-01-22', '2023-01-22',\n",
              "               '2023-01-22', '2023-01-22', '2023-01-22', '2023-01-22',\n",
              "               '2023-01-22', '2023-01-22', '2023-01-22', '2023-01-22',\n",
              "               '2023-01-22', '2023-01-22', '2023-01-22', '2023-01-22'],\n",
              "              dtype='datetime64[ns]', freq=None), 'Treatment': array(['A', 'A', 'A', 'A', 'A', 'B', 'B', 'B', 'B', 'B', 'C', 'C', 'C',\n",
              "       'C', 'C', 'D', 'D', 'D', 'D', 'D', 'A', 'A', 'A', 'A', 'A', 'B',\n",
              "       'B', 'B', 'B', 'B', 'C', 'C', 'C', 'C', 'C', 'D', 'D', 'D', 'D',\n",
              "       'D', 'A', 'A', 'A', 'A', 'A', 'B', 'B', 'B', 'B', 'B', 'C', 'C',\n",
              "       'C', 'C', 'C', 'D', 'D', 'D', 'D', 'D', 'A', 'A', 'A', 'A', 'A',\n",
              "       'B', 'B', 'B', 'B', 'B', 'C', 'C', 'C', 'C', 'C', 'D', 'D', 'D',\n",
              "       'D', 'D'], dtype='<U1'), 'Temperature': array([33.82026173, 27.00078604, 29.89368992, 36.204466  , 34.33778995,\n",
              "       20.1136106 , 29.75044209, 24.24321396, 24.48390574, 27.05299251,\n",
              "       25.72021786, 32.27136753, 28.80518863, 25.60837508, 27.21931616,\n",
              "       26.66837164, 32.47039537, 23.97420868, 26.56533851, 20.7295213 ,\n",
              "       12.23505092, 28.26809298, 29.32218099, 21.2891749 , 36.34877312,\n",
              "       17.72817163, 25.22879259, 24.06408075, 32.66389607, 32.34679385,\n",
              "       25.77473713, 26.8908126 , 20.56107126, 15.09601766, 23.26043925,\n",
              "       25.78174485, 31.1514534 , 31.01189924, 23.06336591, 23.48848625,\n",
              "       19.75723517, 17.89991031, 16.46864905, 34.75387698, 22.45173909,\n",
              "       22.80962849, 18.7360232 , 28.88745178, 16.93051076, 23.9362986 ,\n",
              "       20.52266719, 26.93451249, 22.44597431, 19.09683908, 24.85908886,\n",
              "       27.14165935, 25.33258611, 26.51235949, 21.82838953, 23.18629417,\n",
              "       21.63769776, 23.20223419, 20.93426859, 16.36858699, 25.88713071,\n",
              "       22.99109532, 16.84900827, 27.31391128, 20.46350818, 25.25972698,\n",
              "       28.64545281, 25.64491455, 30.69700342, 18.8258709 , 27.01170821,\n",
              "       21.57594955, 20.64601425, 22.10575168, 23.44223734, 25.28082671]), 'Rain': array([26.69700318, 68.01652974, 59.31324879, 19.27512627, 79.76504388,\n",
              "       87.91778352, 73.57559142, 46.40150328, 28.58494757, 71.08903454,\n",
              "       41.93646106, 74.44890141, 54.16549956, 69.53278073, 57.12732794,\n",
              "       64.13146336, 50.21000041, 85.71740988, 52.53824185, 58.03978727,\n",
              "       87.66301394, 23.04481878, 24.59030003, 69.38793416, 26.5375319 ,\n",
              "       88.87242371, 41.72762038, 35.05090377, 88.45884053, 79.61029583,\n",
              "       87.35117921, 68.12089317, 32.7754863 , 88.20129906, 44.63993258,\n",
              "       66.04912792, 68.94503936, 46.89979814, 62.28158741, 68.44413343,\n",
              "       57.52851062, 28.01198419, 55.96476348, 76.52771793, 36.10864281,\n",
              "       47.00730919, 41.29692897, 86.98527457, 63.44589514, 58.14923672,\n",
              "       34.60167851, 60.78498383, 36.51334679, 50.63661117, 37.28307843,\n",
              "       63.5286659 , 61.53181633, 45.83402489, 57.92013425, 28.13876983,\n",
              "       20.17484815, 58.78783403, 53.33346991, 62.70062874, 97.6628955 ,\n",
              "       68.88958974, 31.74355549, 72.34032576, 23.68185179, 40.7683079 ,\n",
              "       48.63516789, 84.26685443, 35.10490356, 33.47122923, 48.03094951,\n",
              "       36.73043427, 72.53271844, 28.40136983, 27.05062695, 41.24359911]), 'Soil_pH': array([6.25098377, 7.46476603, 6.9747104 , 6.54377562, 5.88728224,\n",
              "       6.92218149, 5.99989233, 5.72761445, 7.0940149 , 6.65847131,\n",
              "       6.96042941, 6.65936383, 6.92841531, 6.1744872 , 5.98287858,\n",
              "       6.84079726, 6.09829517, 6.15522511, 6.27223375, 6.50873958,\n",
              "       6.32300304, 5.81252435, 6.1781908 , 5.38829842, 6.81261573,\n",
              "       5.69897117, 5.94780833, 6.52608254, 6.1302185 , 7.2715073 ,\n",
              "       5.85357155, 6.63352543, 6.48035859, 5.91595325, 6.76163833,\n",
              "       6.41422683, 6.88589528, 6.91175208, 7.58161797, 7.16826397,\n",
              "       6.31540908, 6.38031041, 7.0498298 , 6.82763187, 6.82006576,\n",
              "       5.69152198, 6.48783694, 6.13098455, 6.6399623 , 6.45092481,\n",
              "       6.95508945, 6.65860911, 6.89316398, 6.26679045, 6.02777687,\n",
              "       6.29497515, 6.49148979, 6.68957587, 7.62965448, 6.47887142,\n",
              "       6.0220275 , 6.32700911, 6.26820201, 6.74074074, 5.72960149,\n",
              "       6.531631  , 6.57825327, 6.61609052, 6.20134197, 6.38103914,\n",
              "       5.78796955, 6.25334006, 6.22856926, 6.70802502, 5.92190878,\n",
              "       6.89059905, 7.24724227, 5.46500749, 6.71312937, 6.83845402]), 'Yield': array([43.62562974, 46.02728186, 48.67119422, 47.02209121, 46.90987031,\n",
              "       33.23996194, 61.52331565, 60.79618592, 41.86635741, 35.33575672,\n",
              "       55.21064876, 44.2421203 , 51.41953163, 46.80671583, 56.91538751,\n",
              "       56.94749144, 42.74402622, 36.16636045, 34.17061603, 56.10379379,\n",
              "       38.11140742, 44.93183646, 44.03685962, 49.47432704, 30.63720194,\n",
              "       51.88778597, 55.23891024, 50.88422087, 46.89113828, 50.97400166,\n",
              "       53.99046346, 22.27407244, 69.55912308, 53.90093323, 43.47591418,\n",
              "       46.09046625, 54.93741777, 48.83896061, 29.69315532, 70.64492861,\n",
              "       48.89459343, 60.20172712, 43.07950152, 65.36377054, 52.86343689,\n",
              "       56.08843834, 39.54746634, 62.1114529 , 56.89818165, 63.0184623 ,\n",
              "       43.7191244 , 45.18972882, 73.03916698, 39.39984177, 48.64050299,\n",
              "       61.36891363, 50.97724968, 55.8295368 , 46.00550971, 53.70055888,\n",
              "       36.93473148, 66.5813068 , 48.81835955, 43.19821796, 56.66383082,\n",
              "       45.39280213, 36.65741529, 36.53282494, 56.93773153, 48.40426562,\n",
              "       48.6629844 , 60.77743806, 38.73174191, 42.69322247, 46.15120191,\n",
              "       50.94351589, 49.57828549, 47.13112808, 49.38373598, 48.92694724]), 'Biomass': array([ 85.60791223,  83.74014023, 105.49032715,  82.18169834,\n",
              "        76.85289482,  93.75415498,  96.84665968, 145.13446995,\n",
              "        85.90599448, 118.8652145 , 114.94376668,  76.2211009 ,\n",
              "       115.46505955,  76.3223872 ,  46.81655524, 112.12639049,\n",
              "        64.88218833, 109.01868924,  86.31978205, 133.19101592,\n",
              "       121.37018799,  90.93228392,  86.24324778,  75.71845194,\n",
              "        91.18154735,  94.3928901 ,  92.70612911, 103.13407711,\n",
              "       111.57042995, 106.99308914,  84.71712152,  71.24417052,\n",
              "       127.29063696,  86.21101631,  86.954128  ,  89.57621375,\n",
              "        63.138609  ,  90.44051992,  90.40688372, 112.40716597,\n",
              "       113.96914298, 100.07541778, 118.63696748, 106.79929968,\n",
              "        99.68635777, 103.21856337,  96.18693013,  92.10300972,\n",
              "        94.64532926,  77.43977337, 105.60883411,  80.13752778,\n",
              "       116.83262528,  95.0108284 , 100.98989963, 109.87673553,\n",
              "       112.8662893 ,  68.58753183,  95.86192648, 117.60357824,\n",
              "        66.03788361, 107.74560951,  54.88871541,  79.54986313,\n",
              "       100.77261104,  66.86569795,  80.28978525,  70.56329985,\n",
              "       132.96269864, 103.28455511, 111.34580556,  95.54649799,\n",
              "        92.93136502,  67.67051623,  94.16325275,  84.77015576,\n",
              "       117.15847849, 122.82203733, 129.33157431, 117.05103879]), 'Canopy': array([ 71.02019095,  63.26154521,  91.49994772,  85.34439226,\n",
              "        53.47192324,  85.33222689,  92.21779734,  80.88388384,\n",
              "        77.22419493,  67.88527269,  58.30197951,  92.00446924,\n",
              "        75.36328333,  76.49800008, 105.9908178 ,  90.2675166 ,\n",
              "        85.56237502,  82.13092708, 102.79992291, 105.79383961,\n",
              "        93.94257667,  88.73336887,  48.58095393,  81.85582871,\n",
              "        78.04839569,  81.40929844,  94.14569131,  38.90484249,\n",
              "        71.4603192 ,  84.04856532,  72.99731681,  58.7464083 ,\n",
              "        93.0344523 ,  84.15307859,  65.43343144,  84.72225807,\n",
              "        92.32378568,  80.07938969,  92.00847205,  81.17390263,\n",
              "        74.07156526,  62.60869225,  78.7110385 ,  82.91439407,\n",
              "        93.13749142,  78.27338797,  86.86123409,  65.53081979,\n",
              "        68.26056266,  78.34416051,  64.18057304,  92.30371756,\n",
              "        86.94695494,  84.18643647,  85.08356188, 110.31565342,\n",
              "        72.96703718,  46.97838072,  82.98950295,  79.24094689,\n",
              "        72.23721436,  65.31755211,  73.41215717,  82.72007644,\n",
              "        72.45774949, 116.18680519,  65.59243428,  68.10323956,\n",
              "        45.6706994 ,  83.77226623,  49.75390058,  71.9081805 ,\n",
              "        75.86494198,  69.35408051, 106.08309016,  94.91591587,\n",
              "        99.78705314,  66.76371772,  96.92891097,  87.4400142 ])},\n",
              "      dtype=object)"
            ]
          },
          "metadata": {},
          "execution_count": 114
        }
      ]
    },
    {
      "cell_type": "code",
      "source": [
        "print(y.dtype)\n",
        "print(X.dtypes)"
      ],
      "metadata": {
        "colab": {
          "base_uri": "https://localhost:8080/"
        },
        "id": "vxmAHrgcs7UA",
        "outputId": "d5756d18-adb2-448f-a6e1-bed04f2fb6e9"
      },
      "execution_count": null,
      "outputs": [
        {
          "output_type": "stream",
          "name": "stdout",
          "text": [
            "float64\n",
            "const                 float64\n",
            "Temperature           float64\n",
            "Rain                  float64\n",
            "Soil_pH               float64\n",
            "Time           datetime64[ns]\n",
            "dtype: object\n"
          ]
        }
      ]
    },
    {
      "cell_type": "code",
      "source": [
        "print(df.dtypes)"
      ],
      "metadata": {
        "colab": {
          "base_uri": "https://localhost:8080/"
        },
        "id": "LFjh5fIQuez3",
        "outputId": "787ce45c-d350-4fe7-b414-ca7d31a7cf9c"
      },
      "execution_count": null,
      "outputs": [
        {
          "output_type": "stream",
          "name": "stdout",
          "text": [
            "Time           datetime64[ns]\n",
            "Treatment              object\n",
            "Temperature           float64\n",
            "Rain                  float64\n",
            "Soil_pH               float64\n",
            "Yield                 float64\n",
            "Biomass               float64\n",
            "Canopy                float64\n",
            "dtype: object\n"
          ]
        }
      ]
    },
    {
      "cell_type": "markdown",
      "source": [
        "Since 'Time' is a datetime variable, we need to encode it appropriately before fitting the model. One common approach is to extract features like year, month, day, etc., from the datetime variable."
      ],
      "metadata": {
        "id": "fuagH3bhvSy0"
      }
    },
    {
      "cell_type": "code",
      "source": [
        "# Extract features from the datetime variable\n",
        "df['Year'] = df['Time'].dt.year\n",
        "df['Month'] = df['Time'].dt.month\n",
        "df['Day'] = df['Time'].dt.day\n",
        "\n",
        "# Drop the original 'Time' column\n",
        "df.drop(columns=['Time'], inplace=True)\n",
        "\n",
        "# Add a constant term to the features\n",
        "features = sm.add_constant(df.drop(columns=['Yield', 'Biomass', 'Canopy', 'Treatment']))\n",
        "\n",
        "# Fit the regression model for Yield\n",
        "model_yield = sm.OLS(df['Yield'], features)\n",
        "results_yield = model_yield.fit()\n",
        "\n",
        "# Print summary of the regression model for Yield\n",
        "print(results_yield.summary())\n",
        "\n",
        "# Fit the regression model for Biomass\n",
        "model_biomass = sm.OLS(df['Biomass'], features)\n",
        "results_biomass = model_biomass.fit()\n",
        "\n",
        "# Print summary of the regression model for Biomass\n",
        "print(results_biomass.summary())\n",
        "\n",
        "# Fit the regression model for Canopy\n",
        "model_canopy = sm.OLS(df['Canopy'], features)\n",
        "results_canopy = model_canopy.fit()\n",
        "\n",
        "# Print summary of the regression model for Canopy\n",
        "print(results_canopy.summary())"
      ],
      "metadata": {
        "colab": {
          "base_uri": "https://localhost:8080/"
        },
        "id": "uNlRcVDuuzT-",
        "outputId": "1e7005f5-2745-40ed-c80a-3dfd6c44b2af"
      },
      "execution_count": null,
      "outputs": [
        {
          "output_type": "stream",
          "name": "stdout",
          "text": [
            "                            OLS Regression Results                            \n",
            "==============================================================================\n",
            "Dep. Variable:                  Yield   R-squared:                       0.027\n",
            "Model:                            OLS   Adj. R-squared:                 -0.025\n",
            "Method:                 Least Squares   F-statistic:                    0.5157\n",
            "Date:                Wed, 27 Mar 2024   Prob (F-statistic):              0.724\n",
            "Time:                        12:49:46   Log-Likelihood:                -293.24\n",
            "No. Observations:                  80   AIC:                             596.5\n",
            "Df Residuals:                      75   BIC:                             608.4\n",
            "Df Model:                           4                                         \n",
            "Covariance Type:            nonrobust                                         \n",
            "===============================================================================\n",
            "                  coef    std err          t      P>|t|      [0.025      0.975]\n",
            "-------------------------------------------------------------------------------\n",
            "Temperature     0.0361      0.233      0.155      0.877      -0.428       0.500\n",
            "Rain            0.0360      0.055      0.650      0.518      -0.074       0.146\n",
            "Soil_pH        -2.2638      2.311     -0.980      0.330      -6.867       2.339\n",
            "Year            0.0294      0.009      3.448      0.001       0.012       0.046\n",
            "Month        1.452e-05   4.21e-06      3.448      0.001    6.13e-06    2.29e-05\n",
            "Day             0.1248      0.153      0.814      0.418      -0.181       0.430\n",
            "==============================================================================\n",
            "Omnibus:                        1.302   Durbin-Watson:                   2.460\n",
            "Prob(Omnibus):                  0.522   Jarque-Bera (JB):                0.720\n",
            "Skew:                           0.143   Prob(JB):                        0.698\n",
            "Kurtosis:                       3.366   Cond. No.                     2.42e+19\n",
            "==============================================================================\n",
            "\n",
            "Notes:\n",
            "[1] Standard Errors assume that the covariance matrix of the errors is correctly specified.\n",
            "[2] The smallest eigenvalue is 5.58e-31. This might indicate that there are\n",
            "strong multicollinearity problems or that the design matrix is singular.\n",
            "                            OLS Regression Results                            \n",
            "==============================================================================\n",
            "Dep. Variable:                Biomass   R-squared:                       0.046\n",
            "Model:                            OLS   Adj. R-squared:                 -0.005\n",
            "Method:                 Least Squares   F-statistic:                    0.8994\n",
            "Date:                Wed, 27 Mar 2024   Prob (F-statistic):              0.469\n",
            "Time:                        12:49:46   Log-Likelihood:                -348.33\n",
            "No. Observations:                  80   AIC:                             706.7\n",
            "Df Residuals:                      75   BIC:                             718.6\n",
            "Df Model:                           4                                         \n",
            "Covariance Type:            nonrobust                                         \n",
            "===============================================================================\n",
            "                  coef    std err          t      P>|t|      [0.025      0.975]\n",
            "-------------------------------------------------------------------------------\n",
            "Temperature    -0.7926      0.464     -1.708      0.092      -1.717       0.132\n",
            "Rain           -0.0790      0.110     -0.716      0.476      -0.299       0.141\n",
            "Soil_pH         2.0391      4.600      0.443      0.659      -7.125      11.203\n",
            "Year            0.0537      0.017      3.167      0.002       0.020       0.088\n",
            "Month        2.656e-05   8.39e-06      3.167      0.002    9.85e-06    4.33e-05\n",
            "Day            -0.1520      0.305     -0.498      0.620      -0.760       0.456\n",
            "==============================================================================\n",
            "Omnibus:                        0.392   Durbin-Watson:                   2.026\n",
            "Prob(Omnibus):                  0.822   Jarque-Bera (JB):                0.558\n",
            "Skew:                          -0.112   Prob(JB):                        0.757\n",
            "Kurtosis:                       2.658   Cond. No.                     2.42e+19\n",
            "==============================================================================\n",
            "\n",
            "Notes:\n",
            "[1] Standard Errors assume that the covariance matrix of the errors is correctly specified.\n",
            "[2] The smallest eigenvalue is 5.58e-31. This might indicate that there are\n",
            "strong multicollinearity problems or that the design matrix is singular.\n",
            "                            OLS Regression Results                            \n",
            "==============================================================================\n",
            "Dep. Variable:                 Canopy   R-squared:                       0.036\n",
            "Model:                            OLS   Adj. R-squared:                 -0.016\n",
            "Method:                 Least Squares   F-statistic:                    0.6916\n",
            "Date:                Wed, 27 Mar 2024   Prob (F-statistic):              0.600\n",
            "Time:                        12:49:46   Log-Likelihood:                -329.32\n",
            "No. Observations:                  80   AIC:                             668.6\n",
            "Df Residuals:                      75   BIC:                             680.6\n",
            "Df Model:                           4                                         \n",
            "Covariance Type:            nonrobust                                         \n",
            "===============================================================================\n",
            "                  coef    std err          t      P>|t|      [0.025      0.975]\n",
            "-------------------------------------------------------------------------------\n",
            "Temperature    -0.2019      0.366     -0.552      0.583      -0.931       0.527\n",
            "Rain            0.1002      0.087      1.151      0.253      -0.073       0.273\n",
            "Soil_pH         2.6940      3.627      0.743      0.460      -4.532       9.920\n",
            "Year            0.0312      0.013      2.333      0.022       0.005       0.058\n",
            "Month        1.543e-05   6.61e-06      2.333      0.022    2.25e-06    2.86e-05\n",
            "Day            -0.1470      0.241     -0.611      0.543      -0.626       0.332\n",
            "==============================================================================\n",
            "Omnibus:                        0.432   Durbin-Watson:                   1.920\n",
            "Prob(Omnibus):                  0.806   Jarque-Bera (JB):                0.168\n",
            "Skew:                          -0.104   Prob(JB):                        0.920\n",
            "Kurtosis:                       3.085   Cond. No.                     2.42e+19\n",
            "==============================================================================\n",
            "\n",
            "Notes:\n",
            "[1] Standard Errors assume that the covariance matrix of the errors is correctly specified.\n",
            "[2] The smallest eigenvalue is 5.58e-31. This might indicate that there are\n",
            "strong multicollinearity problems or that the design matrix is singular.\n"
          ]
        }
      ]
    },
    {
      "cell_type": "markdown",
      "source": [
        "This code will fit separate regression models for 'Yield', 'Biomass', and 'Canopy' using 'Temperature', 'Rain', 'Soil_pH', 'Year', 'Month', and 'Day' as independent variables. The summary method will print a summary of each regression result, providing insights into the relationships between the independent variables and the dependent variables over time."
      ],
      "metadata": {
        "id": "7H-v2FLGvoVU"
      }
    },
    {
      "cell_type": "code",
      "source": [
        "!pip freeze --local > requirements.txt\n"
      ],
      "metadata": {
        "id": "L-qzKEYN5wM3"
      },
      "execution_count": null,
      "outputs": []
    }
  ]
}